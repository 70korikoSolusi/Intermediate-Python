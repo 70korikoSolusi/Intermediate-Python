{
  "nbformat": 4,
  "nbformat_minor": 0,
  "metadata": {
    "colab": {
      "provenance": [],
      "authorship_tag": "ABX9TyPiDPaIGcP0ZDmtTrCagY/e",
      "include_colab_link": true
    },
    "kernelspec": {
      "name": "python3",
      "display_name": "Python 3"
    },
    "language_info": {
      "name": "python"
    }
  },
  "cells": [
    {
      "cell_type": "markdown",
      "metadata": {
        "id": "view-in-github",
        "colab_type": "text"
      },
      "source": [
        "<a href=\"https://colab.research.google.com/github/70korikoSolusi/Intermediate-Python/blob/OVERVIEW/Operator.ipynb\" target=\"_parent\"><img src=\"https://colab.research.google.com/assets/colab-badge.svg\" alt=\"Open In Colab\"/></a>"
      ]
    },
    {
      "cell_type": "code",
      "execution_count": null,
      "metadata": {
        "colab": {
          "base_uri": "https://localhost:8080/"
        },
        "id": "5jlZpx8-jo2W",
        "outputId": "c1fa1cac-063b-46bf-cd02-ccb02e36aa85"
      },
      "outputs": [
        {
          "output_type": "stream",
          "name": "stdout",
          "text": [
            "15 5 50 2.0 1 25 0\n",
            "0.0\n",
            "False True False False True False\n",
            "False False True\n",
            "False\n",
            "True\n",
            "True\n",
            "2\n",
            "7\n",
            "-4\n"
          ]
        }
      ],
      "source": [
        "\"\"\"\n",
        "Python membagi operator dalam kelompok berikut:\n",
        "-----------------------------------------------\n",
        "Operator aritmatika\n",
        "Operator penugasan\n",
        "Operator perbandingan\n",
        "Operator logika\n",
        "Operator identitas\n",
        "Operator keanggotaan\n",
        "Operator bitwise\n",
        "------------------------------------------------------------------------------------\n",
        "Operator aritmatika digunakan dengan nilai numerik untuk melakukan operasi matematika\n",
        "+\t --> Addition          -->\tx + y\n",
        "-\t --> Subtraction\t     -->  x - y\n",
        "*\t --> Multiplication    -->\tx * y\n",
        "/\t --> Division\t         -->  x / y\n",
        "%\t --> Modulus\t         -->  x % y\n",
        "** --> Exponentiation\t   -->  x ** y\n",
        "// --> Floor division\t   -->  x // y\n",
        "\"\"\"\n",
        "a = 5\n",
        "b = 10\n",
        "print(a+b,\\\n",
        "      b-a,\\\n",
        "      a*b,\\\n",
        "      b/a,\\\n",
        "      a%2,\\\n",
        "      a**2,\\\n",
        "      a//b);\n",
        "\"\"\"\n",
        "Operator penugasan digunakan untuk menetapkan nilai ke variabel:\n",
        "=\t   x = 5\t  x = 5\n",
        "+=\t x += 3\t  x = x + 3\n",
        "-=\t x -= 3\t  x = x - 3\n",
        "*=\t x *= 3\t  x = x * 3\n",
        "/=\t x /= 3\t  x = x / 3\n",
        "%=\t x %= 3\t  x = x % 3\n",
        "//=\t x //= 3\tx = x // 3\n",
        "**=\t x **= 3\tx = x ** 3\n",
        "\"\"\"\n",
        "x = 10\n",
        "x += 3\n",
        "x -= 3\n",
        "x *= 3\n",
        "x /= 3\n",
        "x **= 3\n",
        "x //= 3\n",
        "x %= 3\n",
        "print(x)\n",
        "\"\"\"\n",
        "Operator perbandingan digunakan untuk membandingkan dua nilai\n",
        "==\tEqual\tx == y\n",
        "!=\tNot equal\tx != y\n",
        ">\t  Greater than\tx > y\n",
        "<\t  Less than\tx < y\n",
        ">=\tGreater than or equal to\tx >= y\n",
        "<=\tLess than or equal to\tx <= y\n",
        "\"\"\"\n",
        "a = 5\n",
        "b = 10\n",
        "print(a==b,\\\n",
        "      b!=a,\\\n",
        "      a>b,\\\n",
        "      b<a,\\\n",
        "      a>=2,\\\n",
        "      a<=2);\n",
        "\"\"\"\n",
        "Operator logika digunakan untuk menggabungkan pernyataan kondisional\n",
        "and \tReturns True if both statements are true\t              x < 5 and  x < 10\n",
        "or\t  Returns True if one of the statements is true\t          x < 5 or x < 4\n",
        "not\t  Reverse the result, returns False if the result is true\tnot(x < 5 and x < 10)\n",
        "\"\"\"\n",
        "print((a==b and b!=a),\\\n",
        "      (a>b or b<a) ,\\\n",
        "      not(a>b or b<a));\n",
        "\"\"\"\n",
        "Operator identitas digunakan untuk membandingkan objek,\n",
        "bukan jika objek tersebut sama, namun jika objek tersebut\n",
        "sebenarnya adalah objek yang sama, dengan lokasi memori yang sama\n",
        "\n",
        "is \t    Returns True if both variables are the same object\t    x is y\n",
        "is not\tReturns True if both variables are not the same object\tx is not y\n",
        "\"\"\"\n",
        "x = [\"apple\", \"banana\"]\n",
        "y = [\"apple\", \"orange\"]\n",
        "z = x\n",
        "print(x is y)\n",
        "print(x is not y)\n",
        "\"\"\"\n",
        "Operator keanggotaan digunakan untuk menguji apakah suatu urutan disajikan dalam suatu objek\n",
        "in \tReturns True if a sequence with the specified value is present in the object\t        x in y\n",
        "not in\tReturns True if a sequence with the specified value is not present in the object\tx not in y\n",
        "\"\"\"\n",
        "x = [\"apple\", \"banana\"]\n",
        "print(\"banana\" in x)\n",
        "\"\"\"\n",
        "Operator bitwise digunakan untuk membandingkan angka (biner)\n",
        "& \tAND\t  Sets each bit to 1 if both bits are           1\tx & y\n",
        "|\tOR\t    Sets each bit to 1 if one of two bits is      1\tx | y\n",
        "^\tXOR\t    Sets each bit to 1 if only one of two bits is 1\tx ^ y\n",
        "~\tNOT\t    Inverts all the bits\t                        ~x\n",
        "\"\"\"\n",
        "print(6 & 3)\n",
        "print(6 | 3)\n",
        "print(~3)\n",
        "\n",
        "\n"
      ]
    }
  ]
}