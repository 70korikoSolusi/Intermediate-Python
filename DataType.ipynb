{
  "nbformat": 4,
  "nbformat_minor": 0,
  "metadata": {
    "colab": {
      "provenance": [],
      "authorship_tag": "ABX9TyNhG+fBPPQtNEQp4HsoZfDQ",
      "include_colab_link": true
    },
    "kernelspec": {
      "name": "python3",
      "display_name": "Python 3"
    },
    "language_info": {
      "name": "python"
    }
  },
  "cells": [
    {
      "cell_type": "markdown",
      "metadata": {
        "id": "view-in-github",
        "colab_type": "text"
      },
      "source": [
        "<a href=\"https://colab.research.google.com/github/70korikoSolusi/Intermediate-Python/blob/OVERVIEW/DataType.ipynb\" target=\"_parent\"><img src=\"https://colab.research.google.com/assets/colab-badge.svg\" alt=\"Open In Colab\"/></a>"
      ]
    },
    {
      "cell_type": "code",
      "execution_count": null,
      "metadata": {
        "colab": {
          "base_uri": "https://localhost:8080/"
        },
        "id": "SPzpSfffhVH2",
        "outputId": "5d08690d-3e4f-4086-e49d-be8fbc994ab2"
      },
      "outputs": [
        {
          "output_type": "stream",
          "name": "stdout",
          "text": [
            "<class 'int'>\n",
            "<class 'float'>\n",
            "<class 'complex'>\n",
            "1\n",
            "Hello\n",
            "Lorem ipsum dolor sit amet,\n",
            "consectetur adipiscing elit,\n",
            "sed do eiusmod tempor incididunt\n",
            "ut labore et dolore magna aliqua.\n",
            "llo\n",
            "Hello\n",
            "llo, World!\n",
            "orl\n",
            "HELLO, WORLD!\n",
            "hello, world!\n",
            "HelloWorld\n",
            "------------------------------\n",
            "I want 3 pieces of item 567 for 49.95 dollars.\n",
            "I want 3 pieces of item 567 for 49.95 dollars.\n",
            "I want 3 pieces of item 567 for 49.95 dollars\n",
            "True\n",
            "False\n",
            "False\n",
            "b is not greater than a\n"
          ]
        }
      ],
      "source": [
        "\"\"\"\n",
        "Variabel adalah tempan penyimpanan tipe data\n",
        "sedangkan tipe data adalah nilai yang telah didefenisikan\n",
        "Tipe Data terbagi menjadi 2 jenis :\n",
        "1. Tipe Data primitive adalah tipe data yang menyimpan satu nilai\n",
        "2. Tipa Data Container adalah tipe data yang bisa menyimpan banyak nilai\n",
        "\"\"\"\n",
        "# Tipe Data primitive : numerik, string, dan boolen\n",
        "# tipe data numerik\n",
        "x = 1   # int\n",
        "y = 2.8  # float\n",
        "z = 1j   # complex\n",
        "# Untuk memverifikasi tipe objek apa pun dengan Python, gunakan type()fungsi:\n",
        "print(type(x))\n",
        "print(type(y))\n",
        "print(type(z))\n",
        "print('%d'%(x))\n",
        "# tipe data string String dalam python diapit oleh tanda kutip tunggal atau tanda kutip ganda.\n",
        "a = \"Hello\"\n",
        "text = \"\"\"Lorem ipsum dolor sit amet,\n",
        "consectetur adipiscing elit,\n",
        "sed do eiusmod tempor incididunt\n",
        "ut labore et dolore magna aliqua.\"\"\"\n",
        "print(a)\n",
        "print(text)\n",
        "# operasi string\n",
        "# Slicing atau mengiris string\n",
        "b = \"Hello, World!\"\n",
        "print(b[2:5]) # Dapatkan karakter dari posisi 2 ke posisi 5\n",
        "print(b[:5]) # Dapatkan karakter dari awal hingga posisi 5\n",
        "print(b[2:]) # Dapatkan karakter dari posisi 2, hingga akhir:\n",
        "print(b[-5:-2]) # Gunakan indeks negatif untuk memulai potongan dari akhir string:\n",
        "# modifikasi string\n",
        "print(b.upper()) # upper()mengembalikan string dalam huruf besar\n",
        "print(b.lower()) # lower()mengembalikan string dalam huruf kecil\n",
        "# Penggabungan String\n",
        "a = \"Hello\"\n",
        "b = \"World\"\n",
        "c = a + b\n",
        "print(c)\n",
        "# mengulang string\n",
        "print(\"-\"*30)\n",
        "# formating string\n",
        "quantity = 3\n",
        "itemno = 567\n",
        "price = 49.95\n",
        "myorder = \"I want {} pieces of item {} for {} dollars.\"\n",
        "print(myorder.format(quantity, itemno, price)) # Metode format()\n",
        "print(f\"I want {quantity} pieces of item {itemno} for {price} dollars.\") # Metode f-strings()\n",
        "print(\"I want %s pieces of item %s for %s dollars\" %(quantity, itemno, price)) # Metode %()\n",
        "# tipe boolean adalah tipe data ekspresi yang nilai True atau False.\n",
        "print(10 > 9)\n",
        "print(10 == 9)\n",
        "print(10 < 9)\n",
        "# tipe data boolen pada perintah if .. else\n",
        "a = 200\n",
        "b = 33\n",
        "if b > a:\n",
        "  print(\"b is greater than a\")\n",
        "else:\n",
        "  print(\"b is not greater than a\")\n"
      ]
    }
  ]
}