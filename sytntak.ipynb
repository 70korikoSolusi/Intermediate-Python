{
  "nbformat": 4,
  "nbformat_minor": 0,
  "metadata": {
    "colab": {
      "provenance": [],
      "authorship_tag": "ABX9TyP7gkaIBvR0hcBsj/1Gf9eg",
      "include_colab_link": true
    },
    "kernelspec": {
      "name": "python3",
      "display_name": "Python 3"
    },
    "language_info": {
      "name": "python"
    }
  },
  "cells": [
    {
      "cell_type": "markdown",
      "metadata": {
        "id": "view-in-github",
        "colab_type": "text"
      },
      "source": [
        "<a href=\"https://colab.research.google.com/github/70korikoSolusi/Intermediate-Python/blob/OVERVIEW/sytntak.ipynb\" target=\"_parent\"><img src=\"https://colab.research.google.com/assets/colab-badge.svg\" alt=\"Open In Colab\"/></a>"
      ]
    },
    {
      "cell_type": "code",
      "source": [
        "\"\"\"\n",
        "aturan penulisan perintah python\n",
        "1. Case sensitive\n",
        "2. Indentasi\n",
        "3. banyak perintah perbaris\n",
        "4. perintah multibaris\n",
        "\"\"\"\n",
        "# Case sensitive (membedakan huruf besar dan kecil)\n",
        "print(\"hello word\") # perintah benar\n",
        "# Print(\"hello word\") # perintah salah\n",
        "# Indentasi (penempatan penulisan perintah python)\n",
        "# print(\"hello\") # penulisan perintah yang salah\n",
        "if(1<3):\n",
        "  print(\"satu lebih kecil tiga\") # penulisan perintah diblok if\n",
        "for i in range(5):\n",
        "  print(i) # penulisan perintah diblok for\n",
        "# banyak perintah perbaris menggunakan ;\n",
        "print(\"hello\");print(\"apa kabar ??\")\n",
        "# perintah multibaris\n",
        "print(\"nama saya \",\\\n",
        "      \"jhon\\n\")"
      ],
      "metadata": {
        "id": "7l_RCDRSLgma"
      },
      "execution_count": null,
      "outputs": []
    }
  ]
}